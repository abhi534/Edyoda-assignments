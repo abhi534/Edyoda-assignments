{
 "cells": [
  {
   "cell_type": "code",
   "execution_count": null,
   "id": "272a09e9",
   "metadata": {},
   "outputs": [],
   "source": [
    "'''\n",
    "Q1. Write a program to find all pairs of an integer array whose sum is equal to a given number?\n",
    "\n",
    "Q2. Write a program to reverse an array in place? In place means you cannot create a new array. You have to update the original array.\n",
    "\n",
    "Q3. Write a program to check if two strings are a rotation of each other?\n",
    "\n",
    "Q4. Write a program to print the first non-repeated character from a string?\n",
    "\n",
    "Q5. Read about the Tower of Hanoi algorithm. Write a program to implement it.\n",
    "\n",
    "Q6. Read about infix, prefix, and postfix expressions. Write a program to convert postfix to prefix expression.\n",
    "\n",
    "Q7. Write a program to convert prefix expression to infix expression.\n",
    "\n",
    "Q8. Write a program to check if all the brackets are closed in a given code snippet.\n",
    "\n",
    "Q9. Write a program to reverse a stack.\n",
    "\n",
    "Q10. Write a program to find the smallest number using a stack.\n",
    "'''"
   ]
  },
  {
   "cell_type": "code",
   "execution_count": 1,
   "id": "28799b8c",
   "metadata": {},
   "outputs": [
    {
     "name": "stdout",
     "output_type": "stream",
     "text": [
      "All pairs with sum 10 is::( 1 , 9 )( 2 , 8 )( 3 , 7 )( 4 , 6 )"
     ]
    }
   ],
   "source": [
    "#Q1. Write a program to find all pairs of an integer array whose sum is equal to a given number?\n",
    "\n",
    "import array as ar\n",
    "\n",
    "#array\n",
    "a=ar.array('i',[1,2,3,4,5,6,7,8,9])\n",
    "\n",
    "#given number\n",
    "n=10\n",
    "\n",
    "print('All pairs with sum',n,'is::',end='')\n",
    "for i in range(len(a)-1):\n",
    "    for j in range(i+1,len(a)):\n",
    "        if(a[i]+a[j]==n):\n",
    "            print('(',a[i],',',a[j],')',end='')"
   ]
  },
  {
   "cell_type": "code",
   "execution_count": 3,
   "id": "447eb29b",
   "metadata": {},
   "outputs": [
    {
     "name": "stdout",
     "output_type": "stream",
     "text": [
      "Original array::1 2 3 4 5 6 7 8 9 \n",
      "Array after reversing::9 8 7 6 5 4 3 2 1 "
     ]
    }
   ],
   "source": [
    "#Q2. Write a program to reverse an array in place? In place means you cannot create a new array. You have to update the original array.\n",
    "\n",
    "import array as ar\n",
    "\n",
    "#array\n",
    "a=ar.array('i',[1,2,3,4,5,6,7,8,9])\n",
    "\n",
    "print('Original array::',end='')\n",
    "for i in range(len(a)):\n",
    "    print(a[i],end=' ')\n",
    "    \n",
    "#reverse the array\n",
    "for i in range(len(a)//2):\n",
    "    temp=a[i]\n",
    "    a[i]=a[len(a)-i-1]\n",
    "    a[len(a)-i-1]=temp\n",
    "    \n",
    "print('\\nArray after reversing::',end='')\n",
    "for i in range(len(a)):\n",
    "    print(a[i],end=' ')"
   ]
  },
  {
   "cell_type": "code",
   "execution_count": 4,
   "id": "e9ebf7db",
   "metadata": {},
   "outputs": [
    {
     "name": "stdout",
     "output_type": "stream",
     "text": [
      "Both string are reverse of each other\n"
     ]
    }
   ],
   "source": [
    "#Q3. Write a program to check if two strings are a rotation of each other?\n",
    "\n",
    "str1='hello'\n",
    "str2='olleh'\n",
    "\n",
    "if str1 == str2[::-1]:\n",
    "    print('Both string are reverse of each other')\n",
    "else:\n",
    "    print('Both string are not reverse of each other')"
   ]
  },
  {
   "cell_type": "code",
   "execution_count": 5,
   "id": "8c23ea4f",
   "metadata": {},
   "outputs": [
    {
     "name": "stdout",
     "output_type": "stream",
     "text": [
      "helo wrd\n"
     ]
    }
   ],
   "source": [
    "#Q4. Write a program to print the first non-repeated character from a string?\n",
    "\n",
    "str='hello world'\n",
    "\n",
    "t=''\n",
    "for i in str:\n",
    "    if i in t:\n",
    "        pass\n",
    "    else:\n",
    "        t+=i\n",
    "\n",
    "print(t)"
   ]
  },
  {
   "cell_type": "code",
   "execution_count": 1,
   "id": "7c9b666f",
   "metadata": {},
   "outputs": [
    {
     "name": "stdout",
     "output_type": "stream",
     "text": [
      "Move disk 1 from rod A to rod B\n",
      "Move disk 2 from rod A to rod C\n",
      "Move disk 1 from rod B to rod C\n",
      "Move disk 3 from rod A to rod B\n",
      "Move disk 1 from rod C to rod A\n",
      "Move disk 2 from rod C to rod B\n",
      "Move disk 1 from rod A to rod B\n"
     ]
    }
   ],
   "source": [
    "#Q5. Read about the Tower of Hanoi algorithm. Write a program to implement it.\n",
    "\n",
    "def ToH(n,source,destination,auxiliary):\n",
    "    if n==1:\n",
    "        print('Move disk',n,'from rod',source,'to rod',destination)\n",
    "    else:\n",
    "        ToH(n-1,source,auxiliary,destination)\n",
    "        print('Move disk',n,'from rod',source,'to rod',destination)\n",
    "        ToH(n-1,auxiliary,destination,source)\n",
    "    \n",
    "n=3\n",
    "ToH(n,'A','B','C')"
   ]
  },
  {
   "cell_type": "code",
   "execution_count": 4,
   "id": "2e5a348f",
   "metadata": {},
   "outputs": [
    {
     "name": "stdout",
     "output_type": "stream",
     "text": [
      "Prefix :  *+AB-CD\n"
     ]
    }
   ],
   "source": [
    "#Q6. Read about infix, prefix, and postfix expressions. Write a program to convert postfix to prefix expression.\n",
    "\n",
    "# Convert postfix to Prefix expression\n",
    "def PoP(post_exp):\n",
    "    s = []\n",
    "\n",
    "    for i in range(len(post_exp)):\n",
    "        if (post_exp[i]=='+' or post_exp[i]=='-' or post_exp[i]=='*' or post_exp[i]=='/' or post_exp[i]=='^'):\n",
    "            op1 = s[-1]\n",
    "            s.pop()\n",
    "            op2 = s[-1]\n",
    "            s.pop()\n",
    "\n",
    "            temp = post_exp[i] + op2 + op1\n",
    "            s.append(temp)\n",
    "        else:\n",
    "            s.append(post_exp[i])\n",
    "\n",
    "    ans = ''\n",
    "    for i in s:\n",
    "        ans += i\n",
    "    return ans\n",
    "\n",
    "post_exp = \"AB+CD-*\"\n",
    "print(\"Prefix : \", PoP(post_exp))"
   ]
  },
  {
   "cell_type": "code",
   "execution_count": 5,
   "id": "b1a960f4",
   "metadata": {},
   "outputs": [
    {
     "name": "stdout",
     "output_type": "stream",
     "text": [
      "((A-(B/C))*((A/K)-L))\n"
     ]
    }
   ],
   "source": [
    "#Q7. Write a program to convert prefix expression to infix expression.\n",
    "\n",
    "def POI(prefix):\n",
    "    stack = []     \n",
    "    i = len(prefix) - 1\n",
    "    while i >= 0:\n",
    "        if not isOperator(prefix[i]):\n",
    "            stack.append(prefix[i])\n",
    "            i -= 1\n",
    "        else:\n",
    "            str = \"(\" + stack.pop() + prefix[i] + stack.pop() + \")\"\n",
    "            stack.append(str)\n",
    "            i -= 1\n",
    "            \n",
    "    return stack.pop()\n",
    " \n",
    "def isOperator(c):\n",
    "    if c == \"*\" or c == \"+\" or c == \"-\" or c == \"/\" or c == \"^\" or c == \"(\" or c == \")\":\n",
    "        return True\n",
    "    else:\n",
    "        return False\n",
    " \n",
    "\n",
    "str = '*-A/BC-/AKL'\n",
    "print(POI(str))"
   ]
  },
  {
   "cell_type": "code",
   "execution_count": null,
   "id": "e5c49620",
   "metadata": {},
   "outputs": [],
   "source": [
    "#Q8. Write a program to check if all the brackets are closed in a given code snippet.\n",
    "\n",
    "import sys\n",
    "\n",
    "l=int(input('Enter the line of codes::'))\n",
    "code=''\n",
    "for i in range(l):\n",
    "    code+= input() +'\\n'\n",
    "\n",
    "bc = code.count('(')-code.count(')')\n",
    "\n",
    "if bc == 0:\n",
    "    print('No open brackets')\n",
    "elif bc > 0:\n",
    "    print(bc,'open bracket(s)')\n",
    "else:\n",
    "    print(bc,'extra bracket(s)')"
   ]
  },
  {
   "cell_type": "code",
   "execution_count": 2,
   "id": "be41075f",
   "metadata": {},
   "outputs": [
    {
     "name": "stdout",
     "output_type": "stream",
     "text": [
      "Enter the number of elements in the stack::5\n",
      "Enter element 1 ::q\n",
      "Enter element 2 ::d\n",
      "Enter element 3 ::t\n",
      "Enter element 4 ::h\n",
      "Enter element 5 ::i\n",
      "Original stack:: deque(['q', 'd', 't', 'h', 'i'])\n",
      "Stack after reverse:: deque(['i', 'h', 't', 'd', 'q'])\n"
     ]
    }
   ],
   "source": [
    "#Q9. Write a program to reverse a stack.\n",
    "## Stack using deque\n",
    "\n",
    "from collections import deque\n",
    "\n",
    "stack=deque()\n",
    "\n",
    "n=int(input('Enter the number of elements in the stack::'))\n",
    "\n",
    "for i in range(n):\n",
    "    print('Enter element',i+1,'::',end='')\n",
    "    temp=input()\n",
    "    stack.append(temp)\n",
    "    \n",
    "print('Original stack::',stack)\n",
    "stack.reverse()    \n",
    "print('Stack after reverse::',stack)"
   ]
  },
  {
   "cell_type": "code",
   "execution_count": null,
   "id": "085744f9",
   "metadata": {},
   "outputs": [],
   "source": [
    "#Q10. Write a program to find the smallest number using a stack.\n",
    "\n",
    "from collections import deque\n",
    "\n",
    "stack=deque()\n",
    "\n",
    "n=int(input('Enter the number of elements in the stack::'))\n",
    "\n",
    "for i in range(n):\n",
    "    print('Enter element',i+1,'::',end='')\n",
    "    temp=int(input())\n",
    "    stack.append(temp)\n",
    "    \n",
    "print('Stack::',stack)\n",
    "\n",
    "print('Smallest element in stack is::',min(stack))"
   ]
  }
 ],
 "metadata": {
  "kernelspec": {
   "display_name": "Python 3 (ipykernel)",
   "language": "python",
   "name": "python3"
  },
  "language_info": {
   "codemirror_mode": {
    "name": "ipython",
    "version": 3
   },
   "file_extension": ".py",
   "mimetype": "text/x-python",
   "name": "python",
   "nbconvert_exporter": "python",
   "pygments_lexer": "ipython3",
   "version": "3.9.5"
  }
 },
 "nbformat": 4,
 "nbformat_minor": 5
}
